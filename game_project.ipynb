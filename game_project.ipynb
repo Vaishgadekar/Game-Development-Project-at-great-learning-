{
 "cells": [
  {
   "cell_type": "markdown",
   "id": "8b1604b7",
   "metadata": {},
   "source": [
    "# GAME DEVLOPMENT"
   ]
  },
  {
   "cell_type": "markdown",
   "id": "6ae765fe",
   "metadata": {},
   "source": [
    "### guess the word"
   ]
  },
  {
   "cell_type": "code",
   "execution_count": 1,
   "id": "055b2eda",
   "metadata": {},
   "outputs": [],
   "source": [
    "import random"
   ]
  },
  {
   "cell_type": "code",
   "execution_count": 2,
   "id": "c9d1f127",
   "metadata": {},
   "outputs": [],
   "source": [
    "words = ['Dog','Cow','Cat','Donkey','Tiger','Lion','Leopard','Cheetah','Bear','Polar bear','Turtle','Tortoise','Rabbit','Porcupine','Hare']\n"
   ]
  },
  {
   "cell_type": "code",
   "execution_count": 3,
   "id": "eba56d76",
   "metadata": {},
   "outputs": [
    {
     "data": {
      "text/plain": [
       "'hare'"
      ]
     },
     "execution_count": 3,
     "metadata": {},
     "output_type": "execute_result"
    }
   ],
   "source": [
    "guessed_word = random.choice(words)\n",
    "guessed_word = guessed_word.lower()\n",
    "guessed_word"
   ]
  },
  {
   "cell_type": "code",
   "execution_count": 4,
   "id": "a2866c4a",
   "metadata": {},
   "outputs": [
    {
     "data": {
      "text/plain": [
       "'he'"
      ]
     },
     "execution_count": 4,
     "metadata": {},
     "output_type": "execute_result"
    }
   ],
   "source": [
    "w1 = guessed_word[0]\n",
    "w2 =guessed_word[-1]\n",
    "# hint = print('first word \"{}\"\\nlast word \"{}\" \\nnow it is more simple to guessed word'.format (w1,w2))\n",
    "hint = w1+w2\n",
    "hint"
   ]
  },
  {
   "cell_type": "code",
   "execution_count": 5,
   "id": "1df06801",
   "metadata": {},
   "outputs": [
    {
     "name": "stdout",
     "output_type": "stream",
     "text": [
      "enter your name : j\n",
      "welcome to the game word\n",
      "we are going to give you 6 attempt for the gussing correct animal name , so are you ready\n"
     ]
    }
   ],
   "source": [
    "store = []\n",
    "try_p = 6 # 6 chnce to guess the word\n",
    "a = input('enter your name : ')\n",
    "print('welcome to the game word')\n",
    "print('we are going to give you 6 attempt for the gussing correct animal name , so are you ready')"
   ]
  },
  {
   "cell_type": "code",
   "execution_count": 6,
   "id": "dde40fd6",
   "metadata": {},
   "outputs": [
    {
     "name": "stdout",
     "output_type": "stream",
     "text": [
      "guess the letter: j\n",
      "no\n",
      "guess the letter: h\n",
      "yes\n",
      "guess the letter: l\n",
      "no\n",
      "guess the letter: u\n",
      "no\n",
      "\n",
      "would you like a clueyes\n",
      "\n",
      "clue : first and last word is he \n",
      "guess the letter: h\n",
      "yes\n",
      "guess the letter: e\n",
      "yes\n",
      "\n",
      " now lets see what you have guess so far.you have guess :  3 letter corect\n",
      "these letter are: ['h', 'h', 'e']\n",
      "guess the whole word: hear\n",
      "sorry! the answer is hare\n",
      "\n",
      "plese prees enter to leave the programa\n"
     ]
    },
    {
     "data": {
      "text/plain": [
       "''"
      ]
     },
     "execution_count": 6,
     "metadata": {},
     "output_type": "execute_result"
    }
   ],
   "source": [
    "for guess in range(try_p):\n",
    "    while True:\n",
    "        letter = input('guess the letter: ')\n",
    "        \n",
    "        if len(letter) ==1:\n",
    "            break \n",
    "        else:\n",
    "            print('Ooops! plese guess a letter')\n",
    "            \n",
    "    if letter in guessed_word:\n",
    "        print('yes')\n",
    "        store.append(letter)\n",
    "    else:\n",
    "        print('no')\n",
    "\n",
    "        \n",
    "    if guess ==3:\n",
    "        print()\n",
    "        clue = input('would you like a clue')\n",
    "        if clue.lower().startswith('y'):\n",
    "            print()\n",
    "            print('clue : first and last word is {} '.format(hint))\n",
    "        else:\n",
    "            print('you are very cofident')\n",
    "\n",
    "                \n",
    "print()\n",
    "print(' now lets see what you have guess so far.you have guess : ', len(store), 'letter corect')\n",
    "print('these letter are:', store)\n",
    "\n",
    "\n",
    "word_guess = input('guess the whole word: ')\n",
    "if word_guess.lower() == guessed_word:\n",
    "    print('congrass! you are wright')\n",
    "else:\n",
    "    print('sorry! the answer is',guessed_word)\n",
    "\n",
    "\n",
    "print()\n",
    "input('plese prees enter to leave the programa')"
   ]
  },
  {
   "cell_type": "code",
   "execution_count": null,
   "id": "48148ccd",
   "metadata": {},
   "outputs": [],
   "source": []
  }
 ],
 "metadata": {
  "kernelspec": {
   "display_name": "Python 3 (ipykernel)",
   "language": "python",
   "name": "python3"
  },
  "language_info": {
   "codemirror_mode": {
    "name": "ipython",
    "version": 3
   },
   "file_extension": ".py",
   "mimetype": "text/x-python",
   "name": "python",
   "nbconvert_exporter": "python",
   "pygments_lexer": "ipython3",
   "version": "3.10.4"
  }
 },
 "nbformat": 4,
 "nbformat_minor": 5
}
